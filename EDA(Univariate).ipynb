{
 "cells": [
  {
   "cell_type": "markdown",
   "id": "f49f5644",
   "metadata": {},
   "source": [
    "<h1>Taxi Demand Prediction</h1>"
   ]
  },
  {
   "cell_type": "markdown",
   "id": "a75603e5",
   "metadata": {},
   "source": [
    "http://www.nyc.gov/html/tlc/html/about/trip_record_data.shtml "
   ]
  },
  {
   "cell_type": "markdown",
   "id": "af0068fe",
   "metadata": {},
   "source": [
    "<h3> DATA DICTIONARY </h3>\n",
    "<table>\n",
    "<th>Field Name <th>Description\n",
    "<tr> <td>VendorID <td>A code indicating the TPEP provider that provided the record.\n",
    "1= Creative Mobile Technologies, LLC; 2= VeriFone Inc.\n",
    "<tr>\n",
    "<td>tpep_pickup_datetime <td> The date and time when the meter was engaged.\n",
    "<tr>\n",
    "<td>tpep_dropoff_datetime <td>The date and time when the meter was disengaged.\n",
    "<tr>\n",
    "<td>Passenger_count <td>The number of passengers in the vehicle.\n",
    "This is a driver-entered value.\n",
    "<tr>\n",
    "<td>Trip_distance <td>The elapsed trip distance in miles reported by the taximeter.\n",
    "<tr>\n",
    "<td>PULocationID <td>TLC Taxi Zone in which the taximeter was engaged\n",
    "<tr><td>DOLocationID <td>TLC Taxi Zone in which the taximeter was disengaged\n",
    "<tr><td>RateCodeID <td>The final rate code in effect at the end of the trip.\n",
    "1= Standard rate\n",
    "2=JFK\n",
    "3=Newark\n",
    "4=Nassau or Westchester\n",
    "5=Negotiated fare\n",
    "6=Group ride\n",
    "<tr>\n",
    "<td>Store_and_fwd_flag <td>This flag indicates whether the trip record was held in vehicle\n",
    "memory before sending to the vendor, aka “store and forward,”\n",
    "because the vehicle did not have a connection to the server.\n",
    "Y= store and forward trip\n",
    "N= not a store and forward trip\n",
    "<tr>\n",
    "<td>Payment_type <td>A numeric code signifying how the passenger paid for the trip.\n",
    "1= Credit card\n",
    "2= Cash\n",
    "3= No charge\n",
    "4= Dispute\n",
    "5= Unknown\n",
    "6= Voided trip\n",
    "<tr><td>\n",
    "Fare_amount <td>The time-and-distance fare calculated by the meter.\n",
    "<tr><td>\n",
    "Extra <td>Miscellaneous extras and surcharges. Currently, this only includes\n",
    "the $0.50 and $1 rush hour and overnight charges.\n",
    "<tr><td>\n",
    "MTA_tax <td>$0.50 MTA tax that is automatically triggered based on the metered\n",
    "rate in use.\n",
    "<tr><td>\n",
    "Improvement_surcharge <td>$0.30 improvement surcharge assessed trips at the flag drop. The\n",
    "improvement surcharge began being levied in 2021.\n",
    "<tr><td>\n",
    "Tip_amount <td>Tip amount – This field is automatically populated for credit card\n",
    "tips. Cash tips are not included.\n",
    "<tr><td>\n",
    "Tolls_amount <td>Total amount of all tolls paid in trip.\n",
    "<tr><td>\n",
    "Total_amount <td>The total amount charged to passengers. Does not include cash tips.\n",
    "<tr><td>\n",
    "Congestion_Surcharge <td>Total amount collected in trip for NYS congestion surcharge.\n",
    "<tr><td>\n",
    "Airport_fee <td>$1.25 for pick up only at LaGuardia and John F. Kennedy Airports\n",
    "</table>"
   ]
  },
  {
   "cell_type": "code",
   "execution_count": 2,
   "id": "72da8954",
   "metadata": {},
   "outputs": [],
   "source": [
    "#Importing the required libraries\n",
    "import pandas as pd\n",
    "import numpy as np\n",
    "import pyarrow\n",
    "import fastparquet\n",
    "#import folium\n",
    "import datetime\n",
    "import time\n",
    "import matplotlib\n",
    "import matplotlib.pyplot as plt\n",
    "import seaborn as sns\n",
    "from matplotlib import rcParams\n",
    "from sklearn.cluster import MiniBatchKMeans, KMeans#Clustering\n",
    "import math\n",
    "from math import ceil, floor\n",
    "import pickle\n",
    "import os\n",
    "from sklearn.metrics import mean_squared_error\n",
    "from sklearn.metrics import mean_absolute_error\n",
    "import warnings\n",
    "warnings.filterwarnings(\"ignore\")\n",
    "import xgboost as xgb\n",
    "from sklearn.preprocessing import KBinsDiscretizer\n",
    "from sklearn.cluster import KMeans\n",
    "from numpy.ma import count\n",
    "from numpy.core.umath import log"
   ]
  },
  {
   "cell_type": "code",
   "execution_count": 3,
   "id": "ac600327",
   "metadata": {},
   "outputs": [],
   "source": [
    "jan2021 = pd.read_parquet(\"C:yellow_tripdata_2021-01.parquet\")"
   ]
  },
  {
   "cell_type": "code",
   "execution_count": 4,
   "id": "3aec8eba",
   "metadata": {},
   "outputs": [
    {
     "data": {
      "text/plain": [
       "Index(['VendorID', 'tpep_pickup_datetime', 'tpep_dropoff_datetime',\n",
       "       'passenger_count', 'trip_distance', 'RatecodeID', 'store_and_fwd_flag',\n",
       "       'PULocationID', 'DOLocationID', 'payment_type', 'fare_amount', 'extra',\n",
       "       'mta_tax', 'tip_amount', 'tolls_amount', 'improvement_surcharge',\n",
       "       'total_amount', 'congestion_surcharge', 'airport_fee'],\n",
       "      dtype='object')"
      ]
     },
     "execution_count": 4,
     "metadata": {},
     "output_type": "execute_result"
    }
   ],
   "source": [
    "jan2021.columns"
   ]
  },
  {
   "cell_type": "code",
   "execution_count": 5,
   "id": "71b9c0b8",
   "metadata": {},
   "outputs": [
    {
     "data": {
      "text/plain": [
       "(1369769, 19)"
      ]
     },
     "execution_count": 5,
     "metadata": {},
     "output_type": "execute_result"
    }
   ],
   "source": [
    "jan2021.shape"
   ]
  },
  {
   "cell_type": "code",
   "execution_count": 6,
   "id": "58baeeab",
   "metadata": {},
   "outputs": [
    {
     "data": {
      "text/plain": [
       "float64           12\n",
       "int64              4\n",
       "datetime64[ns]     2\n",
       "object             1\n",
       "dtype: int64"
      ]
     },
     "execution_count": 6,
     "metadata": {},
     "output_type": "execute_result"
    }
   ],
   "source": [
    "pd.value_counts(jan2021.dtypes)"
   ]
  },
  {
   "cell_type": "code",
   "execution_count": 7,
   "id": "4ab23826",
   "metadata": {},
   "outputs": [
    {
     "name": "stdout",
     "output_type": "stream",
     "text": [
      "<class 'pandas.core.frame.DataFrame'>\n",
      "RangeIndex: 1369769 entries, 0 to 1369768\n",
      "Data columns (total 19 columns):\n",
      " #   Column                 Non-Null Count    Dtype         \n",
      "---  ------                 --------------    -----         \n",
      " 0   VendorID               1369769 non-null  int64         \n",
      " 1   tpep_pickup_datetime   1369769 non-null  datetime64[ns]\n",
      " 2   tpep_dropoff_datetime  1369769 non-null  datetime64[ns]\n",
      " 3   passenger_count        1271417 non-null  float64       \n",
      " 4   trip_distance          1369769 non-null  float64       \n",
      " 5   RatecodeID             1271417 non-null  float64       \n",
      " 6   store_and_fwd_flag     1271417 non-null  object        \n",
      " 7   PULocationID           1369769 non-null  int64         \n",
      " 8   DOLocationID           1369769 non-null  int64         \n",
      " 9   payment_type           1369769 non-null  int64         \n",
      " 10  fare_amount            1369769 non-null  float64       \n",
      " 11  extra                  1369769 non-null  float64       \n",
      " 12  mta_tax                1369769 non-null  float64       \n",
      " 13  tip_amount             1369769 non-null  float64       \n",
      " 14  tolls_amount           1369769 non-null  float64       \n",
      " 15  improvement_surcharge  1369769 non-null  float64       \n",
      " 16  total_amount           1369769 non-null  float64       \n",
      " 17  congestion_surcharge   1271417 non-null  float64       \n",
      " 18  airport_fee            5 non-null        float64       \n",
      "dtypes: datetime64[ns](2), float64(12), int64(4), object(1)\n",
      "memory usage: 198.6+ MB\n"
     ]
    }
   ],
   "source": [
    "jan2021.info()"
   ]
  },
  {
   "cell_type": "code",
   "execution_count": 8,
   "id": "feabe7a5",
   "metadata": {},
   "outputs": [
    {
     "data": {
      "text/html": [
       "<div>\n",
       "<style scoped>\n",
       "    .dataframe tbody tr th:only-of-type {\n",
       "        vertical-align: middle;\n",
       "    }\n",
       "\n",
       "    .dataframe tbody tr th {\n",
       "        vertical-align: top;\n",
       "    }\n",
       "\n",
       "    .dataframe thead th {\n",
       "        text-align: right;\n",
       "    }\n",
       "</style>\n",
       "<table border=\"1\" class=\"dataframe\">\n",
       "  <thead>\n",
       "    <tr style=\"text-align: right;\">\n",
       "      <th></th>\n",
       "      <th>VendorID</th>\n",
       "      <th>passenger_count</th>\n",
       "      <th>trip_distance</th>\n",
       "      <th>RatecodeID</th>\n",
       "      <th>PULocationID</th>\n",
       "      <th>DOLocationID</th>\n",
       "      <th>payment_type</th>\n",
       "      <th>fare_amount</th>\n",
       "      <th>extra</th>\n",
       "      <th>mta_tax</th>\n",
       "      <th>tip_amount</th>\n",
       "      <th>tolls_amount</th>\n",
       "      <th>improvement_surcharge</th>\n",
       "      <th>total_amount</th>\n",
       "      <th>congestion_surcharge</th>\n",
       "      <th>airport_fee</th>\n",
       "    </tr>\n",
       "  </thead>\n",
       "  <tbody>\n",
       "    <tr>\n",
       "      <th>count</th>\n",
       "      <td>1.369769e+06</td>\n",
       "      <td>1.271417e+06</td>\n",
       "      <td>1.369769e+06</td>\n",
       "      <td>1.271417e+06</td>\n",
       "      <td>1.369769e+06</td>\n",
       "      <td>1.369769e+06</td>\n",
       "      <td>1.369769e+06</td>\n",
       "      <td>1.369769e+06</td>\n",
       "      <td>1.369769e+06</td>\n",
       "      <td>1.369769e+06</td>\n",
       "      <td>1.369769e+06</td>\n",
       "      <td>1.369769e+06</td>\n",
       "      <td>1.369769e+06</td>\n",
       "      <td>1.369769e+06</td>\n",
       "      <td>1.271417e+06</td>\n",
       "      <td>5.0</td>\n",
       "    </tr>\n",
       "    <tr>\n",
       "      <th>mean</th>\n",
       "      <td>1.721725e+00</td>\n",
       "      <td>1.411508e+00</td>\n",
       "      <td>4.631983e+00</td>\n",
       "      <td>1.035081e+00</td>\n",
       "      <td>1.652474e+02</td>\n",
       "      <td>1.614957e+02</td>\n",
       "      <td>1.188578e+00</td>\n",
       "      <td>1.209663e+01</td>\n",
       "      <td>9.705133e-01</td>\n",
       "      <td>4.930412e-01</td>\n",
       "      <td>1.918098e+00</td>\n",
       "      <td>2.477473e-01</td>\n",
       "      <td>2.969412e-01</td>\n",
       "      <td>1.747440e+01</td>\n",
       "      <td>2.239047e+00</td>\n",
       "      <td>0.0</td>\n",
       "    </tr>\n",
       "    <tr>\n",
       "      <th>std</th>\n",
       "      <td>5.925347e-01</td>\n",
       "      <td>1.059831e+00</td>\n",
       "      <td>3.939037e+02</td>\n",
       "      <td>5.994830e-01</td>\n",
       "      <td>6.783854e+01</td>\n",
       "      <td>7.210795e+01</td>\n",
       "      <td>5.776546e-01</td>\n",
       "      <td>1.291337e+01</td>\n",
       "      <td>1.231258e+00</td>\n",
       "      <td>7.632059e-02</td>\n",
       "      <td>2.597151e+00</td>\n",
       "      <td>1.672761e+00</td>\n",
       "      <td>4.222168e-02</td>\n",
       "      <td>1.469342e+01</td>\n",
       "      <td>7.989435e-01</td>\n",
       "      <td>0.0</td>\n",
       "    </tr>\n",
       "    <tr>\n",
       "      <th>min</th>\n",
       "      <td>1.000000e+00</td>\n",
       "      <td>0.000000e+00</td>\n",
       "      <td>0.000000e+00</td>\n",
       "      <td>1.000000e+00</td>\n",
       "      <td>1.000000e+00</td>\n",
       "      <td>1.000000e+00</td>\n",
       "      <td>0.000000e+00</td>\n",
       "      <td>-4.900000e+02</td>\n",
       "      <td>-5.500000e+00</td>\n",
       "      <td>-5.000000e-01</td>\n",
       "      <td>-1.000000e+02</td>\n",
       "      <td>-3.112000e+01</td>\n",
       "      <td>-3.000000e-01</td>\n",
       "      <td>-4.928000e+02</td>\n",
       "      <td>-2.500000e+00</td>\n",
       "      <td>0.0</td>\n",
       "    </tr>\n",
       "    <tr>\n",
       "      <th>25%</th>\n",
       "      <td>1.000000e+00</td>\n",
       "      <td>1.000000e+00</td>\n",
       "      <td>1.000000e+00</td>\n",
       "      <td>1.000000e+00</td>\n",
       "      <td>1.240000e+02</td>\n",
       "      <td>1.070000e+02</td>\n",
       "      <td>1.000000e+00</td>\n",
       "      <td>6.000000e+00</td>\n",
       "      <td>0.000000e+00</td>\n",
       "      <td>5.000000e-01</td>\n",
       "      <td>0.000000e+00</td>\n",
       "      <td>0.000000e+00</td>\n",
       "      <td>3.000000e-01</td>\n",
       "      <td>1.080000e+01</td>\n",
       "      <td>2.500000e+00</td>\n",
       "      <td>0.0</td>\n",
       "    </tr>\n",
       "    <tr>\n",
       "      <th>50%</th>\n",
       "      <td>2.000000e+00</td>\n",
       "      <td>1.000000e+00</td>\n",
       "      <td>1.700000e+00</td>\n",
       "      <td>1.000000e+00</td>\n",
       "      <td>1.620000e+02</td>\n",
       "      <td>1.620000e+02</td>\n",
       "      <td>1.000000e+00</td>\n",
       "      <td>8.500000e+00</td>\n",
       "      <td>0.000000e+00</td>\n",
       "      <td>5.000000e-01</td>\n",
       "      <td>1.860000e+00</td>\n",
       "      <td>0.000000e+00</td>\n",
       "      <td>3.000000e-01</td>\n",
       "      <td>1.380000e+01</td>\n",
       "      <td>2.500000e+00</td>\n",
       "      <td>0.0</td>\n",
       "    </tr>\n",
       "    <tr>\n",
       "      <th>75%</th>\n",
       "      <td>2.000000e+00</td>\n",
       "      <td>1.000000e+00</td>\n",
       "      <td>3.020000e+00</td>\n",
       "      <td>1.000000e+00</td>\n",
       "      <td>2.360000e+02</td>\n",
       "      <td>2.360000e+02</td>\n",
       "      <td>1.000000e+00</td>\n",
       "      <td>1.350000e+01</td>\n",
       "      <td>2.500000e+00</td>\n",
       "      <td>5.000000e-01</td>\n",
       "      <td>2.750000e+00</td>\n",
       "      <td>0.000000e+00</td>\n",
       "      <td>3.000000e-01</td>\n",
       "      <td>1.912000e+01</td>\n",
       "      <td>2.500000e+00</td>\n",
       "      <td>0.0</td>\n",
       "    </tr>\n",
       "    <tr>\n",
       "      <th>max</th>\n",
       "      <td>6.000000e+00</td>\n",
       "      <td>8.000000e+00</td>\n",
       "      <td>2.631633e+05</td>\n",
       "      <td>9.900000e+01</td>\n",
       "      <td>2.650000e+02</td>\n",
       "      <td>2.650000e+02</td>\n",
       "      <td>4.000000e+00</td>\n",
       "      <td>6.960500e+03</td>\n",
       "      <td>8.250000e+00</td>\n",
       "      <td>5.000000e-01</td>\n",
       "      <td>1.140440e+03</td>\n",
       "      <td>8.117500e+02</td>\n",
       "      <td>3.000000e-01</td>\n",
       "      <td>7.661280e+03</td>\n",
       "      <td>3.000000e+00</td>\n",
       "      <td>0.0</td>\n",
       "    </tr>\n",
       "  </tbody>\n",
       "</table>\n",
       "</div>"
      ],
      "text/plain": [
       "           VendorID  passenger_count  trip_distance    RatecodeID  \\\n",
       "count  1.369769e+06     1.271417e+06   1.369769e+06  1.271417e+06   \n",
       "mean   1.721725e+00     1.411508e+00   4.631983e+00  1.035081e+00   \n",
       "std    5.925347e-01     1.059831e+00   3.939037e+02  5.994830e-01   \n",
       "min    1.000000e+00     0.000000e+00   0.000000e+00  1.000000e+00   \n",
       "25%    1.000000e+00     1.000000e+00   1.000000e+00  1.000000e+00   \n",
       "50%    2.000000e+00     1.000000e+00   1.700000e+00  1.000000e+00   \n",
       "75%    2.000000e+00     1.000000e+00   3.020000e+00  1.000000e+00   \n",
       "max    6.000000e+00     8.000000e+00   2.631633e+05  9.900000e+01   \n",
       "\n",
       "       PULocationID  DOLocationID  payment_type   fare_amount         extra  \\\n",
       "count  1.369769e+06  1.369769e+06  1.369769e+06  1.369769e+06  1.369769e+06   \n",
       "mean   1.652474e+02  1.614957e+02  1.188578e+00  1.209663e+01  9.705133e-01   \n",
       "std    6.783854e+01  7.210795e+01  5.776546e-01  1.291337e+01  1.231258e+00   \n",
       "min    1.000000e+00  1.000000e+00  0.000000e+00 -4.900000e+02 -5.500000e+00   \n",
       "25%    1.240000e+02  1.070000e+02  1.000000e+00  6.000000e+00  0.000000e+00   \n",
       "50%    1.620000e+02  1.620000e+02  1.000000e+00  8.500000e+00  0.000000e+00   \n",
       "75%    2.360000e+02  2.360000e+02  1.000000e+00  1.350000e+01  2.500000e+00   \n",
       "max    2.650000e+02  2.650000e+02  4.000000e+00  6.960500e+03  8.250000e+00   \n",
       "\n",
       "            mta_tax    tip_amount  tolls_amount  improvement_surcharge  \\\n",
       "count  1.369769e+06  1.369769e+06  1.369769e+06           1.369769e+06   \n",
       "mean   4.930412e-01  1.918098e+00  2.477473e-01           2.969412e-01   \n",
       "std    7.632059e-02  2.597151e+00  1.672761e+00           4.222168e-02   \n",
       "min   -5.000000e-01 -1.000000e+02 -3.112000e+01          -3.000000e-01   \n",
       "25%    5.000000e-01  0.000000e+00  0.000000e+00           3.000000e-01   \n",
       "50%    5.000000e-01  1.860000e+00  0.000000e+00           3.000000e-01   \n",
       "75%    5.000000e-01  2.750000e+00  0.000000e+00           3.000000e-01   \n",
       "max    5.000000e-01  1.140440e+03  8.117500e+02           3.000000e-01   \n",
       "\n",
       "       total_amount  congestion_surcharge  airport_fee  \n",
       "count  1.369769e+06          1.271417e+06          5.0  \n",
       "mean   1.747440e+01          2.239047e+00          0.0  \n",
       "std    1.469342e+01          7.989435e-01          0.0  \n",
       "min   -4.928000e+02         -2.500000e+00          0.0  \n",
       "25%    1.080000e+01          2.500000e+00          0.0  \n",
       "50%    1.380000e+01          2.500000e+00          0.0  \n",
       "75%    1.912000e+01          2.500000e+00          0.0  \n",
       "max    7.661280e+03          3.000000e+00          0.0  "
      ]
     },
     "execution_count": 8,
     "metadata": {},
     "output_type": "execute_result"
    }
   ],
   "source": [
    "jan2021.describe()"
   ]
  },
  {
   "cell_type": "markdown",
   "id": "15ba3cec",
   "metadata": {},
   "source": [
    "## Preparing the data"
   ]
  },
  {
   "cell_type": "markdown",
   "id": "e1ebce5b",
   "metadata": {},
   "source": [
    "### Handling Null Values"
   ]
  },
  {
   "cell_type": "code",
   "execution_count": 9,
   "id": "7cedd8af",
   "metadata": {},
   "outputs": [
    {
     "data": {
      "text/plain": [
       "VendorID                       0\n",
       "tpep_pickup_datetime           0\n",
       "tpep_dropoff_datetime          0\n",
       "passenger_count            98352\n",
       "trip_distance                  0\n",
       "RatecodeID                 98352\n",
       "store_and_fwd_flag         98352\n",
       "PULocationID                   0\n",
       "DOLocationID                   0\n",
       "payment_type                   0\n",
       "fare_amount                    0\n",
       "extra                          0\n",
       "mta_tax                        0\n",
       "tip_amount                     0\n",
       "tolls_amount                   0\n",
       "improvement_surcharge          0\n",
       "total_amount                   0\n",
       "congestion_surcharge       98352\n",
       "airport_fee              1369764\n",
       "dtype: int64"
      ]
     },
     "execution_count": 9,
     "metadata": {},
     "output_type": "execute_result"
    }
   ],
   "source": [
    "jan2021.isna().sum()"
   ]
  },
  {
   "cell_type": "code",
   "execution_count": 10,
   "id": "b2b20a53",
   "metadata": {},
   "outputs": [],
   "source": [
    "def null_value_handled(df):\n",
    "    df['airport_fee']= df['airport_fee'].fillna(0)\n",
    "    df.loc[df['airport_fee'].isnull()]\n",
    "    df['congestion_surcharge']= df['congestion_surcharge'].fillna(df['total_amount']-(df['fare_amount']+df['extra']+df['mta_tax']+df['tip_amount']+df['tolls_amount']+df['improvement_surcharge']))\n",
    "    df=df.drop('store_and_fwd_flag',axis=1)\n",
    "    average=df['total_amount']/df['trip_distance']\n",
    "    mean=np.mean(average[np.isfinite(average)])\n",
    "    df['passenger_count']= df['passenger_count'].fillna(0)\n",
    "    df['RatecodeID']= df['RatecodeID'].fillna(0)\n",
    "    return(df)"
   ]
  },
  {
   "cell_type": "code",
   "execution_count": 11,
   "id": "a3f02fa8",
   "metadata": {},
   "outputs": [],
   "source": [
    "jan2021 = null_value_handled(jan2021)"
   ]
  },
  {
   "cell_type": "code",
   "execution_count": 12,
   "id": "6becbb95",
   "metadata": {
    "scrolled": true
   },
   "outputs": [
    {
     "data": {
      "text/plain": [
       "VendorID                 0\n",
       "tpep_pickup_datetime     0\n",
       "tpep_dropoff_datetime    0\n",
       "passenger_count          0\n",
       "trip_distance            0\n",
       "RatecodeID               0\n",
       "PULocationID             0\n",
       "DOLocationID             0\n",
       "payment_type             0\n",
       "fare_amount              0\n",
       "extra                    0\n",
       "mta_tax                  0\n",
       "tip_amount               0\n",
       "tolls_amount             0\n",
       "improvement_surcharge    0\n",
       "total_amount             0\n",
       "congestion_surcharge     0\n",
       "airport_fee              0\n",
       "dtype: int64"
      ]
     },
     "execution_count": 12,
     "metadata": {},
     "output_type": "execute_result"
    }
   ],
   "source": [
    "jan2021.isna().sum()"
   ]
  },
  {
   "cell_type": "markdown",
   "id": "56d6735a",
   "metadata": {},
   "source": [
    "## Cleaning the data"
   ]
  },
  {
   "cell_type": "markdown",
   "id": "2ca1f49b",
   "metadata": {},
   "source": [
    "Finding outliers based on quartiles and percentiles, also need to remove error values. We will proceed feature by feature"
   ]
  },
  {
   "cell_type": "markdown",
   "id": "c3f9a334",
   "metadata": {},
   "source": [
    "## Finding trip durations"
   ]
  },
  {
   "cell_type": "code",
   "execution_count": 13,
   "id": "0e00eb54",
   "metadata": {},
   "outputs": [],
   "source": [
    "def convert_to_unix(s):\n",
    "    return (s- np.datetime64('1970-01-01T00:00:00Z'))/np.timedelta64(1, 's')"
   ]
  },
  {
   "cell_type": "code",
   "execution_count": 70,
   "id": "2b877383",
   "metadata": {},
   "outputs": [],
   "source": [
    "def calc_trip_times(df):\n",
    "\n",
    "    duration = df[['tpep_pickup_datetime', 'tpep_dropoff_datetime']]\n",
    "# pickups and dropoffs to unix time\n",
    "    duration_pickup = [convert_to_unix(x) for x in duration['tpep_pickup_datetime'].values]\n",
    "    duration_drop = [convert_to_unix(x) for x in duration['tpep_dropoff_datetime'].values]\n",
    "# calculate duration of trips\n",
    "    durations = (np.array(duration_drop) - np.array(duration_pickup))/float(60)\n",
    "    # append durations of trips and speed in miles/hr to a new dataframe\n",
    "    new_frame = df[['passenger_count', 'trip_distance', 'PULocationID','DOLocationID','total_amount']].copy()\n",
    "    new_frame['trip_time'] = durations\n",
    "    new_frame['pickup_times']= duration_pickup\n",
    "    new_frame['Speed'] = 60 *(new_frame['trip_distance']/new_frame['trip_time'])\n",
    "    \n",
    "    return new_frame"
   ]
  },
  {
   "cell_type": "code",
   "execution_count": 71,
   "id": "5c55ed9b",
   "metadata": {},
   "outputs": [],
   "source": [
    "jan2021_with_durations = calc_trip_times(jan2021)"
   ]
  },
  {
   "cell_type": "code",
   "execution_count": 72,
   "id": "f227b66b",
   "metadata": {
    "scrolled": true
   },
   "outputs": [
    {
     "data": {
      "text/html": [
       "<div>\n",
       "<style scoped>\n",
       "    .dataframe tbody tr th:only-of-type {\n",
       "        vertical-align: middle;\n",
       "    }\n",
       "\n",
       "    .dataframe tbody tr th {\n",
       "        vertical-align: top;\n",
       "    }\n",
       "\n",
       "    .dataframe thead th {\n",
       "        text-align: right;\n",
       "    }\n",
       "</style>\n",
       "<table border=\"1\" class=\"dataframe\">\n",
       "  <thead>\n",
       "    <tr style=\"text-align: right;\">\n",
       "      <th></th>\n",
       "      <th>passenger_count</th>\n",
       "      <th>trip_distance</th>\n",
       "      <th>PULocationID</th>\n",
       "      <th>DOLocationID</th>\n",
       "      <th>total_amount</th>\n",
       "      <th>trip_time</th>\n",
       "      <th>pickup_times</th>\n",
       "      <th>Speed</th>\n",
       "    </tr>\n",
       "  </thead>\n",
       "  <tbody>\n",
       "    <tr>\n",
       "      <th>0</th>\n",
       "      <td>1.0</td>\n",
       "      <td>2.10</td>\n",
       "      <td>142</td>\n",
       "      <td>43</td>\n",
       "      <td>11.80</td>\n",
       "      <td>6.033333</td>\n",
       "      <td>1.609461e+09</td>\n",
       "      <td>20.883978</td>\n",
       "    </tr>\n",
       "    <tr>\n",
       "      <th>1</th>\n",
       "      <td>1.0</td>\n",
       "      <td>0.20</td>\n",
       "      <td>238</td>\n",
       "      <td>151</td>\n",
       "      <td>4.30</td>\n",
       "      <td>0.983333</td>\n",
       "      <td>1.609462e+09</td>\n",
       "      <td>12.203390</td>\n",
       "    </tr>\n",
       "    <tr>\n",
       "      <th>2</th>\n",
       "      <td>1.0</td>\n",
       "      <td>14.70</td>\n",
       "      <td>132</td>\n",
       "      <td>165</td>\n",
       "      <td>51.95</td>\n",
       "      <td>27.600000</td>\n",
       "      <td>1.609462e+09</td>\n",
       "      <td>31.956522</td>\n",
       "    </tr>\n",
       "    <tr>\n",
       "      <th>3</th>\n",
       "      <td>0.0</td>\n",
       "      <td>10.60</td>\n",
       "      <td>138</td>\n",
       "      <td>132</td>\n",
       "      <td>36.35</td>\n",
       "      <td>15.216667</td>\n",
       "      <td>1.609460e+09</td>\n",
       "      <td>41.796276</td>\n",
       "    </tr>\n",
       "    <tr>\n",
       "      <th>4</th>\n",
       "      <td>1.0</td>\n",
       "      <td>4.94</td>\n",
       "      <td>68</td>\n",
       "      <td>33</td>\n",
       "      <td>24.36</td>\n",
       "      <td>16.533333</td>\n",
       "      <td>1.609461e+09</td>\n",
       "      <td>17.927419</td>\n",
       "    </tr>\n",
       "  </tbody>\n",
       "</table>\n",
       "</div>"
      ],
      "text/plain": [
       "   passenger_count  trip_distance  PULocationID  DOLocationID  total_amount  \\\n",
       "0              1.0           2.10           142            43         11.80   \n",
       "1              1.0           0.20           238           151          4.30   \n",
       "2              1.0          14.70           132           165         51.95   \n",
       "3              0.0          10.60           138           132         36.35   \n",
       "4              1.0           4.94            68            33         24.36   \n",
       "\n",
       "   trip_time  pickup_times      Speed  \n",
       "0   6.033333  1.609461e+09  20.883978  \n",
       "1   0.983333  1.609462e+09  12.203390  \n",
       "2  27.600000  1.609462e+09  31.956522  \n",
       "3  15.216667  1.609460e+09  41.796276  \n",
       "4  16.533333  1.609461e+09  17.927419  "
      ]
     },
     "execution_count": 72,
     "metadata": {},
     "output_type": "execute_result"
    }
   ],
   "source": [
    "jan2021_with_durations.head()"
   ]
  },
  {
   "cell_type": "markdown",
   "id": "26fed507",
   "metadata": {},
   "source": [
    "## Trip Duration"
   ]
  },
  {
   "cell_type": "code",
   "execution_count": 73,
   "id": "99ccfcac",
   "metadata": {
    "scrolled": true
   },
   "outputs": [
    {
     "name": "stdout",
     "output_type": "stream",
     "text": [
      "0 percentile value is -135084.63333333333\n",
      "10 percentile value is 3.5166666666666666\n",
      "20 percentile value is 4.933333333333334\n",
      "30 percentile value is 6.216666666666667\n",
      "40 percentile value is 7.566666666666666\n",
      "50 percentile value is 9.066666666666666\n",
      "60 percentile value is 10.866666666666667\n",
      "70 percentile value is 13.133333333333333\n",
      "80 percentile value is 16.45\n",
      "90 percentile value is 22.866666666666667\n",
      "100 percentile value is  28817.7\n"
     ]
    }
   ],
   "source": [
    "for i in range(0,100,10):\n",
    "    var =jan2021_with_durations[\"trip_time\"].values\n",
    "    var = np.sort(var,axis = None)\n",
    "    print(\"{} percentile value is {}\".format(i,var[int(len(var)*(float(i)/100))]))\n",
    "print (\"100 percentile value is \",var[-1])"
   ]
  },
  {
   "cell_type": "code",
   "execution_count": 74,
   "id": "ffa6cfc8",
   "metadata": {},
   "outputs": [],
   "source": [
    "#removing data based on our analysis and TLC regulations\n",
    "jan2021_with_durations=jan2021_with_durations[(jan2021_with_durations.trip_time>1) & (jan2021_with_durations.trip_time<720)]"
   ]
  },
  {
   "cell_type": "code",
   "execution_count": 75,
   "id": "6225aeb9",
   "metadata": {},
   "outputs": [
    {
     "name": "stdout",
     "output_type": "stream",
     "text": [
      "0 percentile value is 1.0166666666666666\n",
      "10 percentile value is 3.7333333333333334\n",
      "20 percentile value is 5.066666666666666\n",
      "30 percentile value is 6.333333333333333\n",
      "40 percentile value is 7.683333333333334\n",
      "50 percentile value is 9.183333333333334\n",
      "60 percentile value is 10.966666666666667\n",
      "70 percentile value is 13.233333333333333\n",
      "80 percentile value is 16.533333333333335\n",
      "90 percentile value is 22.866666666666667\n",
      "100 percentile value is  718.3166666666667\n"
     ]
    }
   ],
   "source": [
    "for i in range(0,100,10):\n",
    "    var =jan2021_with_durations[\"trip_time\"].values\n",
    "    var = np.sort(var,axis = None)\n",
    "    print(\"{} percentile value is {}\".format(i,var[int(len(var)*(float(i)/100))]))\n",
    "print (\"100 percentile value is \",var[-1])"
   ]
  },
  {
   "cell_type": "code",
   "execution_count": 76,
   "id": "8b33cb06",
   "metadata": {},
   "outputs": [
    {
     "data": {
      "text/plain": [
       "1346877"
      ]
     },
     "execution_count": 76,
     "metadata": {},
     "output_type": "execute_result"
    }
   ],
   "source": [
    "len(jan2021_with_durations)"
   ]
  },
  {
   "cell_type": "markdown",
   "id": "d6cb6039",
   "metadata": {},
   "source": [
    "## Trip Distance"
   ]
  },
  {
   "cell_type": "code",
   "execution_count": 77,
   "id": "d4f11d4b",
   "metadata": {},
   "outputs": [
    {
     "name": "stdout",
     "output_type": "stream",
     "text": [
      "0 percentile value is 0.0\n",
      "10 percentile value is 0.66\n",
      "20 percentile value is 0.9\n",
      "30 percentile value is 1.13\n",
      "40 percentile value is 1.4\n",
      "50 percentile value is 1.7\n",
      "60 percentile value is 2.1\n",
      "70 percentile value is 2.63\n",
      "80 percentile value is 3.6\n",
      "90 percentile value is 6.3\n",
      "100 percentile value is  263163.28\n"
     ]
    }
   ],
   "source": [
    "for i in range(0,100,10):\n",
    "    var =jan2021_with_durations[\"trip_distance\"].values\n",
    "    var = np.sort(var,axis = None)\n",
    "    print(\"{} percentile value is {}\".format(i,var[int(len(var)*(float(i)/100))]))\n",
    "print (\"100 percentile value is \",var[-1])"
   ]
  },
  {
   "cell_type": "code",
   "execution_count": 78,
   "id": "3af34fc0",
   "metadata": {},
   "outputs": [],
   "source": [
    "#Can trip distance be zero?"
   ]
  },
  {
   "cell_type": "code",
   "execution_count": 79,
   "id": "7208d489",
   "metadata": {},
   "outputs": [],
   "source": [
    "#The end value seem too high"
   ]
  },
  {
   "cell_type": "code",
   "execution_count": 80,
   "id": "41407a78",
   "metadata": {
    "scrolled": true
   },
   "outputs": [
    {
     "name": "stdout",
     "output_type": "stream",
     "text": [
      "90 percentile value is 6.3\n",
      "91 percentile value is 6.86\n",
      "92 percentile value is 7.52\n",
      "93 percentile value is 8.3\n",
      "94 percentile value is 9.2\n",
      "95 percentile value is 10.3\n",
      "96 percentile value is 11.77\n",
      "97 percentile value is 13.91\n",
      "98 percentile value is 17.0\n",
      "99 percentile value is 19.26\n",
      "100 percentile value is  263163.28\n"
     ]
    }
   ],
   "source": [
    "for i in range(90,100):\n",
    "    var =jan2021_with_durations[\"trip_distance\"].values\n",
    "    var = np.sort(var,axis = None)\n",
    "    print(\"{} percentile value is {}\".format(i,var[int(len(var)*(float(i)/100))]))\n",
    "print (\"100 percentile value is \",var[-1])"
   ]
  },
  {
   "cell_type": "code",
   "execution_count": 81,
   "id": "894f283e",
   "metadata": {},
   "outputs": [
    {
     "name": "stdout",
     "output_type": "stream",
     "text": [
      "99.0 percentile value is 19.26\n",
      "99.1 percentile value is 19.52\n",
      "99.2 percentile value is 19.86\n",
      "99.3 percentile value is 20.21\n",
      "99.4 percentile value is 20.64\n",
      "99.5 percentile value is 21.16\n",
      "99.6 percentile value is 21.85\n",
      "99.7 percentile value is 22.94\n",
      "99.8 percentile value is 25.04\n",
      "99.9 percentile value is 28.82\n",
      "100 percentile value is  263163.28\n"
     ]
    }
   ],
   "source": [
    "for i in np.arange(0.0, 1.0, 0.1):\n",
    "    var =jan2021_with_durations[\"trip_distance\"].values\n",
    "    var = np.sort(var,axis = None)\n",
    "    print(\"{} percentile value is {}\".format(99+i,var[int(len(var)*(float(99+i)/100))]))\n",
    "print(\"100 percentile value is \",var[-1])"
   ]
  },
  {
   "cell_type": "code",
   "execution_count": 82,
   "id": "644d6467",
   "metadata": {},
   "outputs": [
    {
     "data": {
      "image/png": "[encoded data removed]",
      "text/plain": [
       "<Figure size 640x480 with 1 Axes>"
      ]
     },
     "metadata": {},
     "output_type": "display_data"
    }
   ],
   "source": [
    "plt.plot(var[:-150])\n",
    "plt.show()"
   ]
  },
  {
   "cell_type": "code",
   "execution_count": 83,
   "id": "14c0e2b3",
   "metadata": {},
   "outputs": [
    {
     "data": {
      "image/png": "[encoded data removed]",
      "text/plain": [
       "<Figure size 640x480 with 1 Axes>"
      ]
     },
     "metadata": {},
     "output_type": "display_data"
    }
   ],
   "source": [
    "# a very sharp increase in distance values can be seen \n",
    "# plotting last three total distance values, and we can observe there is sharp increase in the values\n",
    "plt.plot(var[-50:])\n",
    "plt.show()"
   ]
  },
  {
   "cell_type": "code",
   "execution_count": 84,
   "id": "907f6bef",
   "metadata": {},
   "outputs": [
    {
     "data": {
      "text/html": [
       "<div>\n",
       "<style scoped>\n",
       "    .dataframe tbody tr th:only-of-type {\n",
       "        vertical-align: middle;\n",
       "    }\n",
       "\n",
       "    .dataframe tbody tr th {\n",
       "        vertical-align: top;\n",
       "    }\n",
       "\n",
       "    .dataframe thead th {\n",
       "        text-align: right;\n",
       "    }\n",
       "</style>\n",
       "<table border=\"1\" class=\"dataframe\">\n",
       "  <thead>\n",
       "    <tr style=\"text-align: right;\">\n",
       "      <th></th>\n",
       "      <th>passenger_count</th>\n",
       "      <th>trip_distance</th>\n",
       "      <th>PULocationID</th>\n",
       "      <th>DOLocationID</th>\n",
       "      <th>total_amount</th>\n",
       "      <th>trip_time</th>\n",
       "      <th>pickup_times</th>\n",
       "      <th>Speed</th>\n",
       "    </tr>\n",
       "  </thead>\n",
       "  <tbody>\n",
       "    <tr>\n",
       "      <th>298</th>\n",
       "      <td>1.0</td>\n",
       "      <td>33.18</td>\n",
       "      <td>91</td>\n",
       "      <td>240</td>\n",
       "      <td>96.67</td>\n",
       "      <td>42.866667</td>\n",
       "      <td>1.609462e+09</td>\n",
       "      <td>46.441680</td>\n",
       "    </tr>\n",
       "    <tr>\n",
       "      <th>770</th>\n",
       "      <td>1.0</td>\n",
       "      <td>32.58</td>\n",
       "      <td>234</td>\n",
       "      <td>48</td>\n",
       "      <td>114.42</td>\n",
       "      <td>93.200000</td>\n",
       "      <td>1.609459e+09</td>\n",
       "      <td>20.974249</td>\n",
       "    </tr>\n",
       "    <tr>\n",
       "      <th>3705</th>\n",
       "      <td>4.0</td>\n",
       "      <td>33.80</td>\n",
       "      <td>132</td>\n",
       "      <td>265</td>\n",
       "      <td>128.42</td>\n",
       "      <td>43.666667</td>\n",
       "      <td>1.609476e+09</td>\n",
       "      <td>46.442748</td>\n",
       "    </tr>\n",
       "    <tr>\n",
       "      <th>4292</th>\n",
       "      <td>1.0</td>\n",
       "      <td>33.09</td>\n",
       "      <td>132</td>\n",
       "      <td>265</td>\n",
       "      <td>137.76</td>\n",
       "      <td>38.850000</td>\n",
       "      <td>1.609482e+09</td>\n",
       "      <td>51.104247</td>\n",
       "    </tr>\n",
       "    <tr>\n",
       "      <th>5474</th>\n",
       "      <td>1.0</td>\n",
       "      <td>38.26</td>\n",
       "      <td>135</td>\n",
       "      <td>44</td>\n",
       "      <td>108.67</td>\n",
       "      <td>43.700000</td>\n",
       "      <td>1.609493e+09</td>\n",
       "      <td>52.530892</td>\n",
       "    </tr>\n",
       "    <tr>\n",
       "      <th>...</th>\n",
       "      <td>...</td>\n",
       "      <td>...</td>\n",
       "      <td>...</td>\n",
       "      <td>...</td>\n",
       "      <td>...</td>\n",
       "      <td>...</td>\n",
       "      <td>...</td>\n",
       "      <td>...</td>\n",
       "    </tr>\n",
       "    <tr>\n",
       "      <th>1368584</th>\n",
       "      <td>0.0</td>\n",
       "      <td>31.43</td>\n",
       "      <td>70</td>\n",
       "      <td>5</td>\n",
       "      <td>104.00</td>\n",
       "      <td>76.000000</td>\n",
       "      <td>1.612097e+09</td>\n",
       "      <td>24.813158</td>\n",
       "    </tr>\n",
       "    <tr>\n",
       "      <th>1369180</th>\n",
       "      <td>0.0</td>\n",
       "      <td>32.75</td>\n",
       "      <td>166</td>\n",
       "      <td>156</td>\n",
       "      <td>104.00</td>\n",
       "      <td>39.000000</td>\n",
       "      <td>1.612110e+09</td>\n",
       "      <td>50.384615</td>\n",
       "    </tr>\n",
       "    <tr>\n",
       "      <th>1369297</th>\n",
       "      <td>0.0</td>\n",
       "      <td>32.95</td>\n",
       "      <td>156</td>\n",
       "      <td>166</td>\n",
       "      <td>93.50</td>\n",
       "      <td>56.000000</td>\n",
       "      <td>1.612114e+09</td>\n",
       "      <td>35.303571</td>\n",
       "    </tr>\n",
       "    <tr>\n",
       "      <th>1369488</th>\n",
       "      <td>0.0</td>\n",
       "      <td>39.07</td>\n",
       "      <td>23</td>\n",
       "      <td>81</td>\n",
       "      <td>120.50</td>\n",
       "      <td>74.583333</td>\n",
       "      <td>1.612121e+09</td>\n",
       "      <td>31.430615</td>\n",
       "    </tr>\n",
       "    <tr>\n",
       "      <th>1369701</th>\n",
       "      <td>0.0</td>\n",
       "      <td>67.03</td>\n",
       "      <td>174</td>\n",
       "      <td>39</td>\n",
       "      <td>86.00</td>\n",
       "      <td>55.000000</td>\n",
       "      <td>1.612132e+09</td>\n",
       "      <td>73.123636</td>\n",
       "    </tr>\n",
       "  </tbody>\n",
       "</table>\n",
       "<p>1305 rows × 8 columns</p>\n",
       "</div>"
      ],
      "text/plain": [
       "         passenger_count  trip_distance  PULocationID  DOLocationID  \\\n",
       "298                  1.0          33.18            91           240   \n",
       "770                  1.0          32.58           234            48   \n",
       "3705                 4.0          33.80           132           265   \n",
       "4292                 1.0          33.09           132           265   \n",
       "5474                 1.0          38.26           135            44   \n",
       "...                  ...            ...           ...           ...   \n",
       "1368584              0.0          31.43            70             5   \n",
       "1369180              0.0          32.75           166           156   \n",
       "1369297              0.0          32.95           156           166   \n",
       "1369488              0.0          39.07            23            81   \n",
       "1369701              0.0          67.03           174            39   \n",
       "\n",
       "         total_amount  trip_time  pickup_times      Speed  \n",
       "298             96.67  42.866667  1.609462e+09  46.441680  \n",
       "770            114.42  93.200000  1.609459e+09  20.974249  \n",
       "3705           128.42  43.666667  1.609476e+09  46.442748  \n",
       "4292           137.76  38.850000  1.609482e+09  51.104247  \n",
       "5474           108.67  43.700000  1.609493e+09  52.530892  \n",
       "...               ...        ...           ...        ...  \n",
       "1368584        104.00  76.000000  1.612097e+09  24.813158  \n",
       "1369180        104.00  39.000000  1.612110e+09  50.384615  \n",
       "1369297         93.50  56.000000  1.612114e+09  35.303571  \n",
       "1369488        120.50  74.583333  1.612121e+09  31.430615  \n",
       "1369701         86.00  55.000000  1.612132e+09  73.123636  \n",
       "\n",
       "[1305 rows x 8 columns]"
      ]
     },
     "execution_count": 84,
     "metadata": {},
     "output_type": "execute_result"
    }
   ],
   "source": [
    "jan2021_with_durations[jan2021_with_durations['trip_distance'] > 29]"
   ]
  },
  {
   "cell_type": "markdown",
   "id": "4c5296a2",
   "metadata": {},
   "source": [
    "## For total amount"
   ]
  },
  {
   "cell_type": "code",
   "execution_count": 85,
   "id": "ead42801",
   "metadata": {
    "scrolled": true
   },
   "outputs": [
    {
     "name": "stdout",
     "output_type": "stream",
     "text": [
      "0 percentile value is -225.3\n",
      "10 percentile value is 8.8\n",
      "20 percentile value is 10.3\n",
      "30 percentile value is 11.3\n",
      "40 percentile value is 12.36\n",
      "50 percentile value is 13.8\n",
      "60 percentile value is 15.36\n",
      "70 percentile value is 17.75\n",
      "80 percentile value is 21.3\n",
      "90 percentile value is 29.75\n",
      "100 percentile value is  7661.28\n"
     ]
    }
   ],
   "source": [
    "for i in range(0,100,10):\n",
    "    var =jan2021_with_durations[\"total_amount\"].values\n",
    "    var = np.sort(var,axis = None)\n",
    "    print(\"{} percentile value is {}\".format(i,var[int(len(var)*(float(i)/100))]))\n",
    "print (\"100 percentile value is \",var[-1])"
   ]
  },
  {
   "cell_type": "code",
   "execution_count": 86,
   "id": "d68684ff",
   "metadata": {},
   "outputs": [],
   "source": [
    "#Amount can not be negative "
   ]
  },
  {
   "cell_type": "code",
   "execution_count": 87,
   "id": "0ec5a37f",
   "metadata": {},
   "outputs": [
    {
     "name": "stdout",
     "output_type": "stream",
     "text": [
      "90 percentile value is 29.75\n",
      "91 percentile value is 31.31\n",
      "92 percentile value is 33.35\n",
      "93 percentile value is 35.8\n",
      "94 percentile value is 38.6\n",
      "95 percentile value is 41.8\n",
      "96 percentile value is 45.92\n",
      "97 percentile value is 51.3\n",
      "98 percentile value is 58.92\n",
      "99 percentile value is 69.12\n",
      "100 percentile value is  7661.28\n"
     ]
    }
   ],
   "source": [
    "for i in range(90,100):\n",
    "    var =jan2021_with_durations[\"total_amount\"].values\n",
    "    var = np.sort(var,axis = None)\n",
    "    print(\"{} percentile value is {}\".format(i,var[int(len(var)*(float(i)/100))]))\n",
    "print(\"100 percentile value is \",var[-1])"
   ]
  },
  {
   "cell_type": "code",
   "execution_count": 88,
   "id": "8ffbe59b",
   "metadata": {},
   "outputs": [
    {
     "name": "stdout",
     "output_type": "stream",
     "text": [
      "99.0 percentile value is 69.12\n",
      "99.1 percentile value is 70.7\n",
      "99.2 percentile value is 71.42\n",
      "99.3 percentile value is 73.65\n",
      "99.4 percentile value is 73.7\n",
      "99.5 percentile value is 73.92\n",
      "99.6 percentile value is 76.77\n",
      "99.7 percentile value is 79.55\n",
      "99.8 percentile value is 86.0\n",
      "99.9 percentile value is 102.06\n",
      "100 percentile value is  7661.28\n"
     ]
    }
   ],
   "source": [
    "for i in np.arange(0.0, 1.0, 0.1):\n",
    "    var =jan2021_with_durations[\"total_amount\"].values\n",
    "    var = np.sort(var,axis = None)\n",
    "    print(\"{} percentile value is {}\".format(99+i,var[int(len(var)*(float(99+i)/100))]))\n",
    "print (\"100 percentile value is \",var[-1])"
   ]
  },
  {
   "cell_type": "code",
   "execution_count": 89,
   "id": "b6c947be",
   "metadata": {},
   "outputs": [
    {
     "data": {
      "image/png": "[encoded data removed]",
      "text/plain": [
       "<Figure size 640x480 with 1 Axes>"
      ]
     },
     "metadata": {},
     "output_type": "display_data"
    }
   ],
   "source": [
    "plt.plot(var[:-2])\n",
    "plt.show()"
   ]
  },
  {
   "cell_type": "code",
   "execution_count": 90,
   "id": "52ed9ffe",
   "metadata": {
    "scrolled": true
   },
   "outputs": [
    {
     "data": {
      "image/png": "[encoded data removed]",
      "text/plain": [
       "<Figure size 640x480 with 1 Axes>"
      ]
     },
     "metadata": {},
     "output_type": "display_data"
    }
   ],
   "source": [
    "plt.plot(var[-5:])\n",
    "plt.show()"
   ]
  },
  {
   "cell_type": "code",
   "execution_count": 91,
   "id": "9ca8ab84",
   "metadata": {},
   "outputs": [
    {
     "data": {
      "text/plain": [
       "900.35"
      ]
     },
     "execution_count": 91,
     "metadata": {},
     "output_type": "execute_result"
    }
   ],
   "source": [
    "var[-5]"
   ]
  },
  {
   "cell_type": "markdown",
   "id": "69ec5b56",
   "metadata": {},
   "source": [
    "## Speed"
   ]
  },
  {
   "cell_type": "code",
   "execution_count": 93,
   "id": "137dd958",
   "metadata": {},
   "outputs": [
    {
     "name": "stdout",
     "output_type": "stream",
     "text": [
      "0 percentile value is 0.0\n",
      "10 percentile value is 7.698795180722891\n",
      "20 percentile value is 9.028571428571428\n",
      "30 percentile value is 10.018552875695734\n",
      "40 percentile value is 10.919431279620854\n",
      "50 percentile value is 11.851851851851853\n",
      "60 percentile value is 12.921535893155259\n",
      "70 percentile value is 14.320441988950275\n",
      "80 percentile value is 16.46066134549601\n",
      "90 percentile value is 20.978417266187048\n",
      "100 percentile value is  1054121.8499999999\n"
     ]
    }
   ],
   "source": [
    "#calculating speed values at each percntile 0,10,20,30,40,50,60,70,80,90,100 \n",
    "for i in range(0,100,10):\n",
    "    var =jan2021_with_durations[\"Speed\"].values\n",
    "    var = np.sort(var,axis = None)\n",
    "    print(\"{} percentile value is {}\".format(i,var[int(len(var)*(float(i)/100))]))\n",
    "print(\"100 percentile value is \",var[-1])"
   ]
  },
  {
   "cell_type": "code",
   "execution_count": 95,
   "id": "1b054fd3",
   "metadata": {},
   "outputs": [
    {
     "name": "stdout",
     "output_type": "stream",
     "text": [
      "90 percentile value is 20.978417266187048\n",
      "91 percentile value is 21.765517241379307\n",
      "92 percentile value is 22.68\n",
      "93 percentile value is 23.725622057834567\n",
      "94 percentile value is 24.932038834951452\n",
      "95 percentile value is 26.362545018007204\n",
      "96 percentile value is 28.18251786695987\n",
      "97 percentile value is 30.49877750611247\n",
      "98 percentile value is 33.451152579582875\n",
      "99 percentile value is 37.734375\n",
      "100 percentile value is  1054121.8499999999\n"
     ]
    }
   ],
   "source": [
    "#calculating speed values at each percntile 90,91,92,93,94,95,96,97,98,99,100\n",
    "for i in range(90,100):\n",
    "    var =jan2021_with_durations[\"Speed\"].values\n",
    "    var = np.sort(var,axis = None)\n",
    "    print(\"{} percentile value is {}\".format(i,var[int(len(var)*(float(i)/100))]))\n",
    "print(\"100 percentile value is \",var[-1])"
   ]
  },
  {
   "cell_type": "code",
   "execution_count": 99,
   "id": "7655a0d2",
   "metadata": {},
   "outputs": [
    {
     "name": "stdout",
     "output_type": "stream",
     "text": [
      "99.0 percentile value is 37.734375\n",
      "99.1 percentile value is 38.28141783029001\n",
      "99.2 percentile value is 38.918181818181814\n",
      "99.3 percentile value is 39.603960396039604\n",
      "99.4 percentile value is 40.373831775700936\n",
      "99.5 percentile value is 41.20600272851296\n",
      "99.6 percentile value is 42.20307692307693\n",
      "99.7 percentile value is 43.446205170975816\n",
      "99.8 percentile value is 45.048913043478265\n",
      "99.9 percentile value is 47.60454545454545\n",
      "100 percentile value is  1054121.8499999999\n"
     ]
    }
   ],
   "source": [
    "for i in np.arange(0.0, 1.0, 0.1):\n",
    "    var =jan2021_with_durations[\"Speed\"].values\n",
    "    var = np.sort(var,axis = None)\n",
    "    print(\"{} percentile value is {}\".format(99+i,var[int(len(var)*(float(99+i)/100))]))\n",
    "print (\"100 percentile value is \",var[-1])"
   ]
  },
  {
   "cell_type": "code",
   "execution_count": 97,
   "id": "ee5da7d4",
   "metadata": {},
   "outputs": [
    {
     "data": {
      "image/png": "[encoded data removed]",
      "text/plain": [
       "<Figure size 640x480 with 1 Axes>"
      ]
     },
     "metadata": {},
     "output_type": "display_data"
    }
   ],
   "source": [
    "plt.plot(var[-5:])\n",
    "plt.show()"
   ]
  },
  {
   "cell_type": "code",
   "execution_count": 98,
   "id": "3d754c1c",
   "metadata": {
    "scrolled": true
   },
   "outputs": [
    {
     "data": {
      "image/png": "[encoded data removed]",
      "text/plain": [
       "<Figure size 640x480 with 1 Axes>"
      ]
     },
     "metadata": {},
     "output_type": "display_data"
    }
   ],
   "source": [
    "plt.plot(var[-3:])\n",
    "plt.show()"
   ]
  },
  {
   "cell_type": "code",
   "execution_count": 103,
   "id": "dc260217",
   "metadata": {},
   "outputs": [],
   "source": [
    "#Final function including speed\n",
    "#removing all outliers based on our univariate analysis above\n",
    "def remove_outliers(new_frame):\n",
    "    a = new_frame.shape[0]\n",
    "    \n",
    "    temp_frame = new_frame[(new_frame.trip_time > 0) & (new_frame.trip_time < 720)]\n",
    "    c = temp_frame.shape[0]\n",
    "    print (\"Number of outliers from trip times analysis:\",(a-c))\n",
    "    \n",
    "    \n",
    "    temp_frame = new_frame[(new_frame.trip_distance > 0) & (new_frame.trip_distance < 29)]\n",
    "    d = temp_frame.shape[0]\n",
    "    print (\"Number of outliers from trip distance analysis:\",(a-d))\n",
    "    \n",
    "    temp_frame = new_frame[(new_frame.Speed <= 65) & (new_frame.Speed >= 0)]\n",
    "    e = temp_frame.shape[0]\n",
    "    print (\"Number of outliers from speed analysis:\",(a-e))\n",
    "    \n",
    "    temp_frame = new_frame[(new_frame.total_amount <1000) & (new_frame.total_amount >0)]\n",
    "    f = temp_frame.shape[0]\n",
    "    print (\"Number of outliers from fare analysis:\",(a-f))\n",
    "    \n",
    "    new_frame = new_frame[(new_frame.trip_time > 0) & (new_frame.trip_time < 720)]\n",
    "    new_frame = new_frame[(new_frame.trip_distance > 0) & (new_frame.trip_distance < 23)]\n",
    "    new_frame = new_frame[(new_frame.Speed < 46.285714285714285) & (new_frame.Speed > 0)]\n",
    "    new_frame = new_frame[(new_frame.total_amount <1000) & (new_frame.total_amount >0)]\n",
    "    \n",
    "    print (\"Total outliers removed \"+ str(a - new_frame.shape[0]))\n",
    "    print (\"---\")\n",
    "    return new_frame"
   ]
  },
  {
   "cell_type": "code",
   "execution_count": 104,
   "id": "a06554d7",
   "metadata": {
    "scrolled": true
   },
   "outputs": [
    {
     "name": "stdout",
     "output_type": "stream",
     "text": [
      "18.9064012916534\n"
     ]
    }
   ],
   "source": [
    "avgSpeed = jan2021_with_durations['Speed'].sum()/len(jan2021_with_durations)\n",
    "print(avgSpeed)"
   ]
  }
 ],
 "metadata": {
  "kernelspec": {
   "display_name": "Python 3.9.13 ('base')",
   "language": "python",
   "name": "python3"
  },
  "language_info": {
   "codemirror_mode": {
    "name": "ipython",
    "version": 3
   },
   "file_extension": ".py",
   "mimetype": "text/x-python",
   "name": "python",
   "nbconvert_exporter": "python",
   "pygments_lexer": "ipython3",
   "version": "3.9.13"
  },
  "vscode": {
   "interpreter": {
    "hash": "eecee88d82e033e596ebd607ad429a20874bef18bfeedb4258ce6b26b139d428"
   }
  }
 },
 "nbformat": 4,
 "nbformat_minor": 5
}
